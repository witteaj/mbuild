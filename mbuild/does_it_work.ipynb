{
 "cells": [
  {
   "cell_type": "code",
   "execution_count": 1,
   "metadata": {
    "collapsed": true
   },
   "outputs": [],
   "source": [
    "import mbuild as mb"
   ]
  },
  {
   "cell_type": "code",
   "execution_count": 2,
   "metadata": {
    "collapsed": true
   },
   "outputs": [],
   "source": [
    "class AlkylMonomer(mb.Compound):\n",
    "    \"\"\"Creates a monomer for an alkyl chain\"\"\"\n",
    "    def __init__(self):\n",
    "        super(AlkylMonomer, self).__init__()\n",
    "        self.add(mb.Particle(name='C', pos=[0,0,0]), label='C[$]')\n",
    "        self.add(mb.Particle(name='H', pos=[-0.109,0,0]), label='HC[$]')\n",
    "        self.add(mb.Particle(name='H', pos=[0.109,0,0]), label = 'HC[$]')\n",
    "        theta = 0.5 * (180 - 109.5) * np.pi / 180\n",
    "        self['HC'][0].rotate(theta, around=[0,1,0])\n",
    "        self['HC'][1].rotate(-theta, around=[0,1,0])\n",
    "        self.add_bond((self[0],self['HC'][0]))\n",
    "        self.add_bond((self[0],self['HC'][1]))\n",
    "\n",
    "        self.add(mb.Port(anchor=self[0]), label='up')\n",
    "        self['up'].translate([0, -0.154/2, 0])\n",
    "        self['up'].rotate(theta, around=[1,0,0])\n",
    "        self.add(mb.Port(anchor=self[0]), label='down')\n",
    "        self['down'].translate([0, 0.154/2, 0])\n",
    "        self['down'].rotate(np.pi, around=[0,1,0])\n",
    "        self['down'].rotate(-theta, around=[1,0,0])\n",
    "\n",
    "    "
   ]
  },
  {
   "cell_type": "code",
   "execution_count": 7,
   "metadata": {
    "collapsed": true
   },
   "outputs": [],
   "source": [
    "import itertools as it\n",
    "import numpy as np\n",
    "\n",
    "from mbuild.compound import Compound\n",
    "from mbuild.coordinate_transform import force_overlap\n",
    "from mbuild.utils.validation import assert_port_exists\n",
    "from mbuild import clone\n",
    "\n",
    "\n",
    "__all__ = ['Polymer']\n",
    "\n",
    "\n",
    "class Polymer(Compound):\n",
    "    \"\"\"Connect one or more components in a specified sequence.\n",
    "    Parameters\n",
    "    ----------\n",
    "    monomers : mb.Compound or list of mb.Compound\n",
    "        The compound(s) to replicate.\n",
    "    n : int\n",
    "        The number of times to replicate the sequence.\n",
    "    sequence : str, optional, default='A'\n",
    "        A string of characters where each unique character represents one\n",
    "        repetition of a monomer. Characters in `sequence` are assigned to\n",
    "        monomers in the order assigned by the built-in `sorted()`.\n",
    "    port_labels : 2-tuple of strs, optional, default=('up', 'down')\n",
    "        The names of the two ports to use to connect copies of proto.\n",
    "    \"\"\"\n",
    "    def __init__(self, monomers, n, sequence='A', port_labels=('up', 'down')):\n",
    "        if n < 1:\n",
    "            raise ValueError('n must be 1 or more')\n",
    "        super(Polymer, self).__init__()\n",
    "        if isinstance(monomers, Compound):\n",
    "            monomers = (monomers,)\n",
    "        for monomer in monomers:\n",
    "            for label in port_labels:\n",
    "                assert_port_exists(label, monomer)\n",
    "\n",
    "        unique_seq_ids = sorted(set(sequence))\n",
    "\n",
    "        if len(monomers) != len(unique_seq_ids):\n",
    "            raise ValueError('Number of monomers passed to `Polymer` class must'\n",
    "                             ' match number of unique entries in the specified'\n",
    "                             ' sequence.')\n",
    "\n",
    "        # 'A': monomer_1, 'B': monomer_2....\n",
    "        seq_map = dict(zip(unique_seq_ids, monomers))\n",
    "\n",
    "        last_part = None\n",
    "        for n_added, seq_item in enumerate(it.cycle(sequence)):\n",
    "            this_part = clone(seq_map[seq_item])\n",
    "            self.add(this_part, 'monomer[$]')\n",
    "            if last_part is None:\n",
    "                first_part = this_part\n",
    "            else:\n",
    "                # Transform this part, such that it's bottom port is rotated\n",
    "                # and translated to the last part's top port.\n",
    "                force_overlap(this_part,\n",
    "                              this_part.labels[port_labels[1]],\n",
    "                              last_part.labels[port_labels[0]])\n",
    "            last_part = this_part\n",
    "            if n_added == n * len(sequence) - 1:\n",
    "                break\n",
    "\n",
    "        # Hoist the last part's top port to be the top port of the polymer.\n",
    "        self.add(last_part.labels[port_labels[0]], port_labels[0], containment=False)\n",
    "\n",
    "        # Hoist the first part's bottom port to be the bottom port of the polymer.\n",
    "        self.add(first_part.labels[port_labels[1]], port_labels[1], containment=False)\n",
    "\n",
    "        "
   ]
  },
  {
   "cell_type": "code",
   "execution_count": 8,
   "metadata": {},
   "outputs": [
    {
     "ename": "AttributeError",
     "evalue": "'Compound' object has no attribute 'made_from_lattice'",
     "output_type": "error",
     "traceback": [
      "\u001b[0;31m---------------------------------------------------------------------------\u001b[0m",
      "\u001b[0;31mAttributeError\u001b[0m                            Traceback (most recent call last)",
      "\u001b[0;32m<ipython-input-8-ddfda41d9b82>\u001b[0m in \u001b[0;36m<module>\u001b[0;34m()\u001b[0m\n\u001b[0;32m----> 1\u001b[0;31m \u001b[0mpp\u001b[0m \u001b[0;34m=\u001b[0m \u001b[0mPolymer\u001b[0m\u001b[0;34m(\u001b[0m\u001b[0mAlkylMonomer\u001b[0m\u001b[0;34m(\u001b[0m\u001b[0;34m)\u001b[0m\u001b[0;34m,\u001b[0m \u001b[0mn\u001b[0m\u001b[0;34m=\u001b[0m \u001b[0;36m15\u001b[0m\u001b[0;34m)\u001b[0m\u001b[0;34m\u001b[0m\u001b[0m\n\u001b[0m",
      "\u001b[0;32m<ipython-input-2-ed79f736dbdf>\u001b[0m in \u001b[0;36m__init__\u001b[0;34m(self)\u001b[0m\n\u001b[1;32m     12\u001b[0m         \u001b[0mself\u001b[0m\u001b[0;34m.\u001b[0m\u001b[0madd_bond\u001b[0m\u001b[0;34m(\u001b[0m\u001b[0;34m(\u001b[0m\u001b[0mself\u001b[0m\u001b[0;34m[\u001b[0m\u001b[0;36m0\u001b[0m\u001b[0;34m]\u001b[0m\u001b[0;34m,\u001b[0m\u001b[0mself\u001b[0m\u001b[0;34m[\u001b[0m\u001b[0;34m'HC'\u001b[0m\u001b[0;34m]\u001b[0m\u001b[0;34m[\u001b[0m\u001b[0;36m1\u001b[0m\u001b[0;34m]\u001b[0m\u001b[0;34m)\u001b[0m\u001b[0;34m)\u001b[0m\u001b[0;34m\u001b[0m\u001b[0m\n\u001b[1;32m     13\u001b[0m \u001b[0;34m\u001b[0m\u001b[0m\n\u001b[0;32m---> 14\u001b[0;31m         \u001b[0mself\u001b[0m\u001b[0;34m.\u001b[0m\u001b[0madd\u001b[0m\u001b[0;34m(\u001b[0m\u001b[0mmb\u001b[0m\u001b[0;34m.\u001b[0m\u001b[0mPort\u001b[0m\u001b[0;34m(\u001b[0m\u001b[0manchor\u001b[0m\u001b[0;34m=\u001b[0m\u001b[0mself\u001b[0m\u001b[0;34m[\u001b[0m\u001b[0;36m0\u001b[0m\u001b[0;34m]\u001b[0m\u001b[0;34m)\u001b[0m\u001b[0;34m,\u001b[0m \u001b[0mlabel\u001b[0m\u001b[0;34m=\u001b[0m\u001b[0;34m'up'\u001b[0m\u001b[0;34m)\u001b[0m\u001b[0;34m\u001b[0m\u001b[0m\n\u001b[0m\u001b[1;32m     15\u001b[0m         \u001b[0mself\u001b[0m\u001b[0;34m[\u001b[0m\u001b[0;34m'up'\u001b[0m\u001b[0;34m]\u001b[0m\u001b[0;34m.\u001b[0m\u001b[0mtranslate\u001b[0m\u001b[0;34m(\u001b[0m\u001b[0;34m[\u001b[0m\u001b[0;36m0\u001b[0m\u001b[0;34m,\u001b[0m \u001b[0;34m-\u001b[0m\u001b[0;36m0.154\u001b[0m\u001b[0;34m/\u001b[0m\u001b[0;36m2\u001b[0m\u001b[0;34m,\u001b[0m \u001b[0;36m0\u001b[0m\u001b[0;34m]\u001b[0m\u001b[0;34m)\u001b[0m\u001b[0;34m\u001b[0m\u001b[0m\n\u001b[1;32m     16\u001b[0m         \u001b[0mself\u001b[0m\u001b[0;34m[\u001b[0m\u001b[0;34m'up'\u001b[0m\u001b[0;34m]\u001b[0m\u001b[0;34m.\u001b[0m\u001b[0mrotate\u001b[0m\u001b[0;34m(\u001b[0m\u001b[0mtheta\u001b[0m\u001b[0;34m,\u001b[0m \u001b[0maround\u001b[0m\u001b[0;34m=\u001b[0m\u001b[0;34m[\u001b[0m\u001b[0;36m1\u001b[0m\u001b[0;34m,\u001b[0m\u001b[0;36m0\u001b[0m\u001b[0;34m,\u001b[0m\u001b[0;36m0\u001b[0m\u001b[0;34m]\u001b[0m\u001b[0;34m)\u001b[0m\u001b[0;34m\u001b[0m\u001b[0m\n",
      "\u001b[0;32m/home/witteaj/builds/mbuild/mbuild/port.py\u001b[0m in \u001b[0;36m__init__\u001b[0;34m(self, anchor, orientation, separation)\u001b[0m\n\u001b[1;32m     44\u001b[0m \u001b[0;34m\u001b[0m\u001b[0m\n\u001b[1;32m     45\u001b[0m         \u001b[0mdown\u001b[0m \u001b[0;34m=\u001b[0m \u001b[0mclone\u001b[0m\u001b[0;34m(\u001b[0m\u001b[0mup\u001b[0m\u001b[0;34m)\u001b[0m\u001b[0;34m\u001b[0m\u001b[0m\n\u001b[0;32m---> 46\u001b[0;31m         \u001b[0mdown\u001b[0m\u001b[0;34m.\u001b[0m\u001b[0mrotate\u001b[0m\u001b[0;34m(\u001b[0m\u001b[0mnp\u001b[0m\u001b[0;34m.\u001b[0m\u001b[0mpi\u001b[0m\u001b[0;34m,\u001b[0m \u001b[0;34m[\u001b[0m\u001b[0;36m0\u001b[0m\u001b[0;34m,\u001b[0m \u001b[0;36m0\u001b[0m\u001b[0;34m,\u001b[0m \u001b[0;36m1\u001b[0m\u001b[0;34m]\u001b[0m\u001b[0;34m)\u001b[0m\u001b[0;34m\u001b[0m\u001b[0m\n\u001b[0m\u001b[1;32m     47\u001b[0m \u001b[0;34m\u001b[0m\u001b[0m\n\u001b[1;32m     48\u001b[0m         \u001b[0mself\u001b[0m\u001b[0;34m.\u001b[0m\u001b[0madd\u001b[0m\u001b[0;34m(\u001b[0m\u001b[0mup\u001b[0m\u001b[0;34m,\u001b[0m \u001b[0;34m'up'\u001b[0m\u001b[0;34m)\u001b[0m\u001b[0;34m\u001b[0m\u001b[0m\n",
      "\u001b[0;32m/home/witteaj/builds/mbuild/mbuild/compound.py\u001b[0m in \u001b[0;36mrotate\u001b[0;34m(self, theta, around, override)\u001b[0m\n\u001b[1;32m   1466\u001b[0m \u001b[0;34m\u001b[0m\u001b[0m\n\u001b[1;32m   1467\u001b[0m         \"\"\"\n\u001b[0;32m-> 1468\u001b[0;31m         \u001b[0;32mif\u001b[0m \u001b[0mself\u001b[0m\u001b[0;34m.\u001b[0m\u001b[0mmade_from_lattice\u001b[0m\u001b[0;34m:\u001b[0m\u001b[0;34m\u001b[0m\u001b[0m\n\u001b[0m\u001b[1;32m   1469\u001b[0m             \u001b[0;32mif\u001b[0m \u001b[0moverride\u001b[0m\u001b[0;34m:\u001b[0m\u001b[0;34m\u001b[0m\u001b[0m\n\u001b[1;32m   1470\u001b[0m                 \u001b[0;32mpass\u001b[0m\u001b[0;34m\u001b[0m\u001b[0m\n",
      "\u001b[0;31mAttributeError\u001b[0m: 'Compound' object has no attribute 'made_from_lattice'"
     ]
    }
   ],
   "source": [
    "pp = Polymer(AlkylMonomer(), n= 15)"
   ]
  },
  {
   "cell_type": "code",
   "execution_count": null,
   "metadata": {
    "collapsed": true
   },
   "outputs": [],
   "source": []
  }
 ],
 "metadata": {
  "kernelspec": {
   "display_name": "Python 3",
   "language": "python",
   "name": "python3"
  },
  "language_info": {
   "codemirror_mode": {
    "name": "ipython",
    "version": 3
   },
   "file_extension": ".py",
   "mimetype": "text/x-python",
   "name": "python",
   "nbconvert_exporter": "python",
   "pygments_lexer": "ipython3",
   "version": "3.6.1"
  }
 },
 "nbformat": 4,
 "nbformat_minor": 2
}
